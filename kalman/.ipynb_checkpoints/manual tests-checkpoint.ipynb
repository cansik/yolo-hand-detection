{
 "cells": [
  {
   "cell_type": "code",
   "execution_count": 11,
   "id": "2fb931c7",
   "metadata": {},
   "outputs": [],
   "source": [
    "from given_kalman import KalmanFilter\n",
    "import numpy as np\n",
    "import matplotlib.pyplot as plt"
   ]
  },
  {
   "cell_type": "code",
   "execution_count": 2,
   "id": "368d28bb",
   "metadata": {},
   "outputs": [
    {
     "data": {
      "text/plain": [
       "<given_kalman.KalmanFilter at 0x19249eba310>"
      ]
     },
     "execution_count": 2,
     "metadata": {},
     "output_type": "execute_result"
    }
   ],
   "source": [
    "kf2 = KalmanFilter()\n",
    "kf2"
   ]
  },
  {
   "cell_type": "code",
   "execution_count": 3,
   "id": "089e4b22",
   "metadata": {},
   "outputs": [
    {
     "data": {
      "text/plain": [
       "(array([60.259064], dtype=float32), array([311.34717], dtype=float32))"
      ]
     },
     "execution_count": 3,
     "metadata": {},
     "output_type": "execute_result"
    }
   ],
   "source": [
    "kf2.predict(10,10)\n",
    "kf2.predict(20,40)\n",
    "kf2.predict(30,90)\n",
    "kf2.predict(40,160)\n",
    "kf2.predict(50,250)"
   ]
  },
  {
   "cell_type": "code",
   "execution_count": 4,
   "id": "0104d9a8",
   "metadata": {},
   "outputs": [],
   "source": [
    "from kalman import KalmanFilter"
   ]
  },
  {
   "cell_type": "code",
   "execution_count": 5,
   "id": "04d03b99",
   "metadata": {},
   "outputs": [
    {
     "name": "stderr",
     "output_type": "stream",
     "text": [
      "C:\\Users\\nicho\\Desktop\\academics\\cs\\vision\\proj\\yolo-hand-detection\\kalman\\kalman.py:26: VisibleDeprecationWarning: Creating an ndarray from ragged nested sequences (which is a list-or-tuple of lists-or-tuples-or ndarrays with different lengths or shapes) is deprecated. If you meant to do this, you must specify 'dtype=object' when creating the ndarray.\n",
      "  Q_a = np.array([\n"
     ]
    },
    {
     "data": {
      "text/plain": [
       "(0.9898631244711572, 6.019479266455075)"
      ]
     },
     "execution_count": 5,
     "metadata": {},
     "output_type": "execute_result"
    }
   ],
   "source": [
    "x_init = np.zeros(6)\n",
    "P_init = np.diag(np.full(6, 500))\n",
    "R_init = np.array([[9,0],[0,9]])\n",
    "kf = KalmanFilter(1, x_init, P_init, R_init, 0.2**2)\n",
    "kf.run((1,1))\n",
    "kf.run((1,2))\n",
    "kf.run((1,3))\n",
    "kf.run((1,4))\n",
    "kf.run((1,5))"
   ]
  },
  {
   "cell_type": "code",
   "execution_count": 6,
   "id": "dbce48c5",
   "metadata": {},
   "outputs": [
    {
     "name": "stdout",
     "output_type": "stream",
     "text": [
      "DROPPED 1\n",
      "DROPPED 2\n",
      "DROPPED 3\n",
      "4\n",
      "5\n",
      "DROPPED 6\n",
      "7\n",
      "8\n",
      "DROPPED 9\n",
      "DROPPED 10\n",
      "DROPPED 11\n",
      "12\n",
      "13\n",
      "14\n",
      "15\n",
      "DROPPED 16\n",
      "DROPPED 17\n",
      "18\n",
      "DROPPED 19\n",
      "20\n"
     ]
    },
    {
     "data": {
      "text/plain": [
       "array([(0.9823182711198427, 0.0),\n",
       "       (1.0238198566040968, 2.3471452234983468),\n",
       "       (0.9884185056270642, 8.700866065274363),\n",
       "       (0.988121006811272, 31.338936808351995),\n",
       "       (0.9898631244711572, 41.120588866360876),\n",
       "       (0.9913528301195057, 35.9901561535754),\n",
       "       (0.9925053359301346, 61.4328889255509),\n",
       "       (0.9934011523896566, 82.10415224687159),\n",
       "       (0.9941113364884554, 85.3462577152696),\n",
       "       (0.9946860374945214, 97.98752066030964),\n",
       "       (0.995159777781529, 116.1204326697621),\n",
       "       (0.9955566169490051, 155.2027243484893),\n",
       "       (0.9958936780187261, 190.59545893117107),\n",
       "       (0.9961834186735365, 224.6384466289672),\n",
       "       (0.9964350930281066, 258.6516861429113),\n",
       "       (0.9966557072482388, 275.9863249429641),\n",
       "       (0.9968506571342807, 299.61581253138104),\n",
       "       (0.9970241625719154, 345.64185104356056),\n",
       "       (0.9971795696323122, 373.5887083997902),\n",
       "       (0.9973195646603403, 423.60582206682335)], dtype=object)"
      ]
     },
     "execution_count": 6,
     "metadata": {},
     "output_type": "execute_result"
    }
   ],
   "source": [
    "x_init = np.zeros(6)\n",
    "P_init = np.diag(np.full(6, 500))\n",
    "R_init = np.array([[9,0],[0,9]])\n",
    "kf = KalmanFilter(1, x_init, P_init, R_init, 0.2**2)\n",
    "a = np.empty(20, dtype='object')\n",
    "for i in range(1,21):\n",
    "    if np.random.random() < .4:\n",
    "        print(i)\n",
    "        a[i-1] = kf.run((1,i**2))\n",
    "    else:\n",
    "        print(\"DROPPED\", i)\n",
    "        a[i-1] = kf.run((1, (i-1)**2))\n",
    "a"
   ]
  },
  {
   "cell_type": "code",
   "execution_count": 7,
   "id": "94c4d201",
   "metadata": {},
   "outputs": [
    {
     "name": "stdout",
     "output_type": "stream",
     "text": [
      "DROPPED(0.0, 0.0)\n",
      "(1.763668430335097, 7.054673721340388)\n",
      "DROPPED(2.755731922398589, 11.022927689594356)\n",
      "(0.7112986154892202, 25.105690916212374)\n",
      "(0.9055902658948207, 36.04046747290859)\n",
      "(0.9564450833333362, 49.016645558917034)\n",
      "DROPPED(0.9064058801777546, 64.03326300035917)\n",
      "(0.9812764090630413, 81.00383149010491)\n",
      "(0.984003046637381, 100.0015523601761)\n",
      "(0.9855543276570148, 121.00029194106318)\n",
      "(0.9872223980566202, 143.99946630106757)\n",
      "DROPPED(0.9781457558394607, 168.99848577646554)\n",
      "(0.9895028382713893, 195.99870975432304)\n",
      "(0.9917498403009618, 224.99853244610574)\n",
      "DROPPED(0.9870552754370486, 255.9973448483641)\n",
      "DROPPED(0.9816015211011213, 288.9959068603878)\n",
      "DROPPED(0.9753885772931798, 323.99421848217685)\n",
      "DROPPED(0.9684164440132242, 360.99227971373125)\n",
      "(0.9940170961626721, 399.99823822494125)\n",
      "(0.9955623978728144, 440.99845236968895)\n"
     ]
    }
   ],
   "source": [
    "x_init = np.zeros(6)\n",
    "P_init = np.diag(np.full(6, 500))\n",
    "R_init = np.array([[9,0],[0,9]])\n",
    "kf = KalmanFilter(1, x_init, P_init, R_init, 0.2**2)\n",
    "for i in range(1,21):\n",
    "    if np.random.random() < .6:\n",
    "        print(kf.run((1,i**2)))\n",
    "    else:\n",
    "        print(\"DROPPED\", end=\"\")\n",
    "        print(kf.predict())"
   ]
  },
  {
   "cell_type": "code",
   "execution_count": 9,
   "id": "b6dd02bc",
   "metadata": {},
   "outputs": [
    {
     "name": "stdout",
     "output_type": "stream",
     "text": [
      "(-9.823182711198427, 98.23182711198427)\n",
      "(-7.8910533425426195, 57.786226413941066)\n",
      "(-6.753894933462457, 44.93691417181708)\n",
      "(-5.826498847791171, 33.63257983832563)\n",
      "(-4.869015102727654, 23.358883663645962)\n",
      "(-3.895005092045531, 14.747087231221737)\n",
      "(-2.9123778694626656, 7.986844115617029)\n",
      "(-1.9247917763281657, 3.1493419055469243)\n",
      "(-0.9341050053987792, 0.26670769493512836)\n",
      "(0.05864751606664387, -0.6445382085977034)\n",
      "(1.0528452540940452, 0.42494532504038035)\n",
      "(2.0480938124032715, 3.480832347726139)\n",
      "(3.044130542353638, 8.526767227616862)\n",
      "(4.040773745735859, 15.56519752309231)\n",
      "DROPPED(5.062333897542155, 24.337202980910654)\n",
      "(6.040529916221871, 35.570768876107486)\n",
      "(7.033451736897834, 48.647174803698256)\n",
      "(8.03027138704261, 63.681897083738264)\n",
      "(9.028495106769205, 80.70152101986079)\n",
      "(10.027277200887053, 99.71506387240629)\n",
      "(11.026282133997512, 120.72611037387303)\n"
     ]
    }
   ],
   "source": [
    "x_init = np.zeros(6)\n",
    "P_init = np.diag(np.full(6, 500))\n",
    "R_init = np.array([[9,0],[0,9]])\n",
    "kf = KalmanFilter(1, x_init, P_init, R_init, 0.2**2)\n",
    "for i in range(-10,11):\n",
    "    if i != 4:\n",
    "        print(kf.run((i,i**2)))\n",
    "    else:\n",
    "        print(\"DROPPED\", end=\"\")\n",
    "        print(kf.predict())"
   ]
  },
  {
   "cell_type": "code",
   "execution_count": 12,
   "id": "c4264a45",
   "metadata": {},
   "outputs": [
    {
     "ename": "TypeError",
     "evalue": "KalmanFilter() takes no arguments",
     "output_type": "error",
     "traceback": [
      "\u001b[1;31m---------------------------------------------------------------------------\u001b[0m",
      "\u001b[1;31mTypeError\u001b[0m                                 Traceback (most recent call last)",
      "Input \u001b[1;32mIn [12]\u001b[0m, in \u001b[0;36m<cell line: 6>\u001b[1;34m()\u001b[0m\n\u001b[0;32m      4\u001b[0m P_init \u001b[38;5;241m=\u001b[39m np\u001b[38;5;241m.\u001b[39mdiag(np\u001b[38;5;241m.\u001b[39mfull(\u001b[38;5;241m6\u001b[39m, \u001b[38;5;241m500\u001b[39m))\n\u001b[0;32m      5\u001b[0m R_init \u001b[38;5;241m=\u001b[39m np\u001b[38;5;241m.\u001b[39marray([[\u001b[38;5;241m9\u001b[39m,\u001b[38;5;241m0\u001b[39m],[\u001b[38;5;241m0\u001b[39m,\u001b[38;5;241m9\u001b[39m]])\n\u001b[1;32m----> 6\u001b[0m kf \u001b[38;5;241m=\u001b[39m \u001b[43mKalmanFilter\u001b[49m\u001b[43m(\u001b[49m\u001b[38;5;241;43m1\u001b[39;49m\u001b[43m,\u001b[49m\u001b[43m \u001b[49m\u001b[43mx_init\u001b[49m\u001b[43m,\u001b[49m\u001b[43m \u001b[49m\u001b[43mP_init\u001b[49m\u001b[43m,\u001b[49m\u001b[43m \u001b[49m\u001b[43mR_init\u001b[49m\u001b[43m,\u001b[49m\u001b[43m \u001b[49m\u001b[38;5;241;43m0.2\u001b[39;49m\u001b[38;5;241;43m*\u001b[39;49m\u001b[38;5;241;43m*\u001b[39;49m\u001b[38;5;241;43m2\u001b[39;49m\u001b[43m,\u001b[49m\u001b[43m \u001b[49m\u001b[43mgain\u001b[49m\u001b[38;5;241;43m=\u001b[39;49m\u001b[38;5;241;43m1.\u001b[39;49m\u001b[43m)\u001b[49m\n\u001b[0;32m      8\u001b[0m data\n",
      "\u001b[1;31mTypeError\u001b[0m: KalmanFilter() takes no arguments"
     ]
    }
   ],
   "source": [
    "data = np.load('conor2.npy')\n",
    "\n",
    "x_init = np.zeros(6)\n",
    "P_init = np.diag(np.full(6, 500))\n",
    "R_init = np.array([[9,0],[0,9]])\n",
    "kf = KalmanFilter(1, x_init, P_init, R_init, 0.2**2, gain=1.)\n",
    "\n",
    "data"
   ]
  }
 ],
 "metadata": {
  "kernelspec": {
   "display_name": "Python 3 (ipykernel)",
   "language": "python",
   "name": "python3"
  },
  "language_info": {
   "codemirror_mode": {
    "name": "ipython",
    "version": 3
   },
   "file_extension": ".py",
   "mimetype": "text/x-python",
   "name": "python",
   "nbconvert_exporter": "python",
   "pygments_lexer": "ipython3",
   "version": "3.8.10"
  }
 },
 "nbformat": 4,
 "nbformat_minor": 5
}
